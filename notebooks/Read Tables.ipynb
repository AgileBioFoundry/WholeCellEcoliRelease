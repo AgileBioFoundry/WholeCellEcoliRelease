{
 "cells": [
  {
   "cell_type": "code",
   "execution_count": 1,
   "metadata": {},
   "outputs": [],
   "source": [
    "# Read all tables in a root directory, get the columns in each"
   ]
  },
  {
   "cell_type": "code",
   "execution_count": 2,
   "metadata": {},
   "outputs": [],
   "source": [
    "#TODO: Fix the readAttributes so it always returns list (even if there is only one attribute)"
   ]
  },
  {
   "cell_type": "code",
   "execution_count": 3,
   "metadata": {},
   "outputs": [],
   "source": [
    "#from WCTableReader import TableReader\n",
    "import tablereader\n",
    "from glob import glob\n",
    "import pandas as pd\n",
    "\n",
    "import importlib"
   ]
  },
  {
   "cell_type": "code",
   "execution_count": 4,
   "metadata": {},
   "outputs": [
    {
     "name": "stdout",
     "output_type": "stream",
     "text": [
      "['atpRequested', 'atpAllocatedFinal', 'atpAllocatedInitial', 'counts']\n"
     ]
    }
   ],
   "source": [
    "importlib.reload(tablereader)\n",
    "tb = tablereader.TableReader(\"WCOutputs/wildtype_000000/000000/generation_000000/000000/simOut/BulkMolecules\")\n",
    "print(tb.columnNames())\n",
    "df = tb.as_pandas(\"counts\")"
   ]
  },
  {
   "cell_type": "code",
   "execution_count": 5,
   "metadata": {},
   "outputs": [
    {
     "name": "stdout",
     "output_type": "stream",
     "text": [
      "Success opening WCOutputs/wildtype_000000/000000/generation_000000/000000/simOut/Mass\n",
      "Success opening WCOutputs/wildtype_000000/000000/generation_000000/000000/simOut/FBAResults\n",
      "Success opening WCOutputs/wildtype_000000/000000/generation_000000/000000/simOut/ReplicationData\n",
      "Success opening WCOutputs/wildtype_000000/000000/generation_000000/000000/simOut/BulkMolecules\n",
      "Success opening WCOutputs/wildtype_000000/000000/generation_000000/000000/simOut/RnaDegradationListener\n",
      "Error reading column in WCOutputs/wildtype_000000/000000/generation_000000/000000/simOut/RnaDegradationListener\n",
      "\tError on 'countRnaDegraded'\n",
      "\t No attributes match shape for countRnaDegraded.  Returning data without labels.\n",
      "Success opening WCOutputs/wildtype_000000/000000/generation_000000/000000/simOut/RibosomeData\n",
      "!!!!Error opening WCOutputs/wildtype_000000/000000/generation_000000/000000/simOut/Daughter2\n",
      "Success opening WCOutputs/wildtype_000000/000000/generation_000000/000000/simOut/EnzymeKinetics\n",
      "Success opening WCOutputs/wildtype_000000/000000/generation_000000/000000/simOut/UniqueMolecules\n",
      "Success opening WCOutputs/wildtype_000000/000000/generation_000000/000000/simOut/RnaSynthProb\n",
      "Error reading column in WCOutputs/wildtype_000000/000000/generation_000000/000000/simOut/RnaSynthProb\n",
      "\tError on 'nActualBound'\n",
      "\t No attributes match shape for nActualBound.  Returning data without labels.\n",
      "\tError on 'pPromoterBound'\n",
      "\t No attributes match shape for pPromoterBound.  Returning data without labels.\n",
      "\tError on 'nPromoterBound'\n",
      "\t No attributes match shape for nPromoterBound.  Returning data without labels.\n",
      "Success opening WCOutputs/wildtype_000000/000000/generation_000000/000000/simOut/RnapData\n",
      "Error reading column in WCOutputs/wildtype_000000/000000/generation_000000/000000/simOut/RnapData\n",
      "\tError on 'ntpCountInSequence'\n",
      "\t Cannot load full column; data size varies\n",
      "\tError on 'ntpCounts'\n",
      "\t Cannot load full column; data size varies\n",
      "Success opening WCOutputs/wildtype_000000/000000/generation_000000/000000/simOut/CellDivision\n",
      "Success opening WCOutputs/wildtype_000000/000000/generation_000000/000000/simOut/GrowthLimits\n",
      "Success opening WCOutputs/wildtype_000000/000000/generation_000000/000000/simOut/UniqueMoleculeCounts\n",
      "Success opening WCOutputs/wildtype_000000/000000/generation_000000/000000/simOut/Environment\n",
      "Error reading column in WCOutputs/wildtype_000000/000000/generation_000000/000000/simOut/Environment\n",
      "\tError on 'nutrients'\n",
      "\t not enough values to unpack (expected 2, got 1)\n",
      "Success opening WCOutputs/wildtype_000000/000000/generation_000000/000000/simOut/Main\n",
      "Error reading column in WCOutputs/wildtype_000000/000000/generation_000000/000000/simOut/Main\n",
      "\tError on 'time'\n",
      "\t object of type 'float' has no len()\n",
      "\tError on 'timeStepSec'\n",
      "\t object of type 'float' has no len()\n",
      "Success opening WCOutputs/wildtype_000000/000000/generation_000000/000000/simOut/TranscriptElongationListener\n",
      "Error reading column in WCOutputs/wildtype_000000/000000/generation_000000/000000/simOut/TranscriptElongationListener\n",
      "\tError on 'countRnaSynthesized'\n",
      "\t No attributes match shape for countRnaSynthesized.  Returning data without labels.\n",
      "!!!!Error opening WCOutputs/wildtype_000000/000000/generation_000000/000000/simOut/Daughter1\n",
      "Success opening WCOutputs/wildtype_000000/000000/generation_000000/000000/simOut/EvaluationTime\n"
     ]
    }
   ],
   "source": [
    "#Sweep some output, see if/where there are problems\n",
    "\n",
    "import warnings\n",
    "\n",
    "tables = glob(\"WCOutputs/wildtype_000000/000000/generation_000000/000000/simOut/*\")\n",
    "for table in tables:\n",
    "    first_error = True\n",
    "    try: \n",
    "        tb = tablereader.TableReader(table)\n",
    "        print(f\"Success opening {table}\")\n",
    "    except: \n",
    "        print(f\"!!!!Error opening {table}\")\n",
    "        continue\n",
    "    for column in tb.columnNames():\n",
    "        try: \n",
    "            warnings.filterwarnings(\"error\")\n",
    "            df = tb.as_pandas(column)\n",
    "            warnings.filterwarnings(\"ignore\")\n",
    "        except Exception as e: \n",
    "            if first_error:\n",
    "                print(f\"Error reading column in {table}\")\n",
    "                first_error = False\n",
    "            print(f\"\\tError on '{column}'\")\n",
    "            print(\"\\t\", e)\n",
    "            "
   ]
  },
  {
   "cell_type": "code",
   "execution_count": null,
   "metadata": {},
   "outputs": [],
   "source": [
    "tb = TableReader(\"WCOutputs/wildtype_000000/000000/generation_000000/000000/simOut/RnapData\")\n",
    "tb.columnNames"
   ]
  },
  {
   "cell_type": "code",
   "execution_count": null,
   "metadata": {},
   "outputs": [],
   "source": [
    "tb.att_shapes"
   ]
  },
  {
   "cell_type": "code",
   "execution_count": null,
   "metadata": {},
   "outputs": [],
   "source": [
    "tb.readColumn(\"ntpCountInSequence\")"
   ]
  },
  {
   "cell_type": "code",
   "execution_count": null,
   "metadata": {},
   "outputs": [],
   "source": [
    "df = tb.as_dataframe(\"countRnaSynthesized\")\n",
    "print(df.shape)\n",
    "df.head()"
   ]
  },
  {
   "cell_type": "code",
   "execution_count": null,
   "metadata": {},
   "outputs": [],
   "source": [
    "tb.readAttribute(\"FractEndoRRnaCounts\")"
   ]
  },
  {
   "cell_type": "code",
   "execution_count": null,
   "metadata": {},
   "outputs": [],
   "source": [
    "tables = glob(\"WCOutputs/wildtype_000000/000000/generation_000000/000000/simOut/*\")"
   ]
  },
  {
   "cell_type": "code",
   "execution_count": null,
   "metadata": {},
   "outputs": [],
   "source": [
    "tb.as_dataframe(\"countRnaDegraded\")"
   ]
  },
  {
   "cell_type": "code",
   "execution_count": null,
   "metadata": {},
   "outputs": [],
   "source": [
    "data = tb.readColumn(\"countRnaDegraded\")"
   ]
  },
  {
   "cell_type": "code",
   "execution_count": null,
   "metadata": {},
   "outputs": [],
   "source": [
    "data.shape"
   ]
  },
  {
   "cell_type": "code",
   "execution_count": null,
   "metadata": {},
   "outputs": [],
   "source": []
  }
 ],
 "metadata": {
  "kernelspec": {
   "display_name": "Python 3",
   "language": "python",
   "name": "python3"
  },
  "language_info": {
   "codemirror_mode": {
    "name": "ipython",
    "version": 3
   },
   "file_extension": ".py",
   "mimetype": "text/x-python",
   "name": "python",
   "nbconvert_exporter": "python",
   "pygments_lexer": "ipython3",
   "version": "3.8.5"
  }
 },
 "nbformat": 4,
 "nbformat_minor": 4
}
